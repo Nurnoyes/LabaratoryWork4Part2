{
  "nbformat": 4,
  "nbformat_minor": 0,
  "metadata": {
    "colab": {
      "provenance": [],
      "authorship_tag": "ABX9TyNJ1bNlyEIsD0MUoqqePWrs",
      "include_colab_link": true
    },
    "kernelspec": {
      "name": "python3",
      "display_name": "Python 3"
    },
    "language_info": {
      "name": "python"
    }
  },
  "cells": [
    {
      "cell_type": "markdown",
      "metadata": {
        "id": "view-in-github",
        "colab_type": "text"
      },
      "source": [
        "<a href=\"https://colab.research.google.com/github/Nurnoyes/LabaratoryWork4Part2/blob/master/AnalyticsLaba4.ipynb\" target=\"_parent\"><img src=\"https://colab.research.google.com/assets/colab-badge.svg\" alt=\"Open In Colab\"/></a>"
      ]
    },
    {
      "cell_type": "code",
      "execution_count": 140,
      "metadata": {
        "id": "klFkS8t-hrMo"
      },
      "outputs": [],
      "source": [
        "import pandas as pd\n",
        "import csv\n",
        "import matplotlib.pyplot as plt\n",
        "import numpy as np\n",
        "xlabel = np.array([])\n",
        "ylabel = np.array([])\n",
        "counter = 0\n",
        "df = pd.read_csv('Titanic.csv')\n",
        "with open('Titanic.csv') as file:\n",
        "    reader = csv.reader(file)\n",
        "    for row in reader:\n",
        "        if (counter == 0):\n",
        "            counter += 1\n",
        "            continue\n",
        "        xlabel = np.append(xlabel, int(row[0]))\n",
        "        ylabel = np.append(ylabel, int(row[2]))\n",
        "        #print(row)"
      ]
    },
    {
      "cell_type": "code",
      "source": [
        "df = pd.read_csv('Titanic.csv')\n",
        "print(df.describe())\n",
        "fig, ax = plt.subplots(figsize=(18,8))  # Create a figure containing a single axes.\n",
        "ax.plot(xlabel,ylabel,color='#f55d42',linewidth='0',marker=\".\")\n",
        "#plt.plot(xlabel, ylabel)#bins=100)#, ylabel, bins=100) #align='edge', linewidth=4000);  # Plot some data on the axes.\n",
        "plt.title('ID & Pclass')\n",
        "ax.set_xlabel('ID', fontsize='21')\n",
        "\n",
        "\n",
        "ax.set_ylabel('Pclass',fontsize='21')#plt.ylabel('Spending score')\n",
        "\n",
        "plt.show()\n"
      ],
      "metadata": {
        "colab": {
          "base_uri": "https://localhost:8080/",
          "height": 866
        },
        "id": "2_JtGPrmkQrK",
        "outputId": "d38f0b89-07c8-4ea2-df4e-befd19ba5543"
      },
      "execution_count": 141,
      "outputs": [
        {
          "output_type": "stream",
          "name": "stdout",
          "text": [
            "       PassengerId    Survived      Pclass         Age       SibSp  \\\n",
            "count   891.000000  891.000000  891.000000  714.000000  891.000000   \n",
            "mean    446.000000    0.383838    2.308642   29.699118    0.523008   \n",
            "std     257.353842    0.486592    0.836071   14.526497    1.102743   \n",
            "min       1.000000    0.000000    1.000000    0.420000    0.000000   \n",
            "25%     223.500000    0.000000    2.000000   20.125000    0.000000   \n",
            "50%     446.000000    0.000000    3.000000   28.000000    0.000000   \n",
            "75%     668.500000    1.000000    3.000000   38.000000    1.000000   \n",
            "max     891.000000    1.000000    3.000000   80.000000    8.000000   \n",
            "\n",
            "            Parch        Fare  \n",
            "count  891.000000  891.000000  \n",
            "mean     0.381594   32.204208  \n",
            "std      0.806057   49.693429  \n",
            "min      0.000000    0.000000  \n",
            "25%      0.000000    7.910400  \n",
            "50%      0.000000   14.454200  \n",
            "75%      0.000000   31.000000  \n",
            "max      6.000000  512.329200  \n"
          ]
        },
        {
          "output_type": "display_data",
          "data": {
            "text/plain": [
              "<Figure size 1296x576 with 1 Axes>"
            ],
            "image/png": "[encoded data removed]"
          },
          "metadata": {
            "needs_background": "light"
          }
        }
      ]
    },
    {
      "cell_type": "code",
      "source": [
        "'''\n",
        "    Hypothesis: more Female are in the Titanic.\n",
        "    The hypothesis is true if 'count' of the female row is more than the 'count' of the male row.\n",
        "    Grouping the dataset to see:\n",
        "'''\n",
        "print(df.groupby('Sex')['Survived'].describe())\n"
      ],
      "metadata": {
        "colab": {
          "base_uri": "https://localhost:8080/"
        },
        "id": "XYtB03NOlcVB",
        "outputId": "79e8df25-136a-44d6-ef98-fad569ed772f"
      },
      "execution_count": 133,
      "outputs": [
        {
          "output_type": "stream",
          "name": "stdout",
          "text": [
            "        count      mean       std  min  25%  50%  75%  max\n",
            "Sex                                                       \n",
            "female  314.0  0.742038  0.438211  0.0  0.0  1.0  1.0  1.0\n",
            "male    577.0  0.188908  0.391775  0.0  0.0  0.0  0.0  1.0\n"
          ]
        }
      ]
    },
    {
      "cell_type": "code",
      "source": [
        "\n",
        "'''\n",
        "        We have:\n",
        "        count      mean       std  min  25%  50%  75%  max\n",
        "Sex                                                       \n",
        "female  314.0  0.742038  0.438211  0.0  0.0  1.0  1.0  1.0\n",
        "male    577.0  0.188908  0.391775  0.0  0.0  0.0  0.0  1.0\n",
        "So, 'count' of female row is LESS than such of men column.\n",
        "\n",
        "\n",
        "                The conclusion:\n",
        "                    more Male are inside the Titanic, not Female.\n",
        "'''\n",
        "\n",
        "\n",
        "\n",
        "\n",
        "\n",
        "\n",
        "'''\n",
        "      3rd Pclass Woman didn\\'t survive  more than 1st Pclass Men\n",
        "'''\n",
        "\n",
        "xxvalue = []\n",
        "yyvalue = []\n",
        "for i in range(4):\n",
        "  yyvalue.append(df.groupby(['Sex', 'Survived'])['Age'].count()[i])\n",
        "print(df.groupby(['Sex', 'Survived'])['Age'].describe())\n",
        "\n",
        "\n",
        "  \n",
        "#plt.title('Group & Survived')\n",
        "fig = plt.figure()\n",
        "ax = fig.add_axes([0,0,1,1])\n",
        "langs = ['Female NotSurvived', 'Female Survived', 'Male unSurvived', 'Male Survived']\n",
        "ax.bar(langs,yyvalue)\n",
        "plt.show()\n",
        "\n",
        "\n",
        "\n",
        "\n",
        "\n",
        "xxxvalue = []\n",
        "yyyvalue = []\n",
        "for i in range(12):\n",
        "  yyyvalue.append(df.groupby(['Sex', 'Survived','Pclass'])['Age'].count()[i])\n",
        "print(df.groupby(['Sex', 'Survived', 'Pclass'])['Age'].describe())\n",
        "fig = plt.figure()\n",
        "fig.set_figheight(9)\n",
        "fig.set_figwidth(30)\n",
        "ax = fig.add_axes([0,0,1,1])\n",
        "langs = ['1st Pcl Female NSurvived', '2nd Pcl Female NSurvived', '3rd Pcl Female NSurvived', \n",
        "         '1st Pcl Female Survived', '2nd Pcl Female Survived', '3rd Pcl Female Survived',\n",
        "         '1st Pcl Male NSurvived','2nd Pcl Male NSurvived','3rd Pcl Male NSurvived',\n",
        "         '1st Pcl Male Survived','2nd Pcl Male Survived','3rd Pcl Male Survived']\n",
        "ax.bar(langs,yyyvalue)\n",
        "plt.show()\n",
        "#print(df.groupby(['Sex', 'Pclass', 'Age'])['Survived'].describe())\n"
      ],
      "metadata": {
        "id": "Iyi_Vu3el4az",
        "colab": {
          "base_uri": "https://localhost:8080/",
          "height": 1000
        },
        "outputId": "fd4281b1-969a-4a1e-fcb1-6d92be2d1dec"
      },
      "execution_count": 144,
      "outputs": [
        {
          "output_type": "stream",
          "name": "stdout",
          "text": [
            "                 count       mean        std   min    25%   50%    75%   max\n",
            "Sex    Survived                                                             \n",
            "female 0          64.0  25.046875  13.618591  2.00  16.75  24.5  33.25  57.0\n",
            "       1         197.0  28.847716  14.175073  0.75  19.00  28.0  38.00  63.0\n",
            "male   0         360.0  31.618056  14.056019  1.00  21.75  29.0  39.25  74.0\n",
            "       1          93.0  27.276022  16.504803  0.42  18.00  28.0  36.00  80.0\n"
          ]
        },
        {
          "output_type": "display_data",
          "data": {
            "text/plain": [
              "<Figure size 432x288 with 1 Axes>"
            ],
            "image/png": "[encoded data removed]"
          },
          "metadata": {
            "needs_background": "light"
          }
        },
        {
          "output_type": "stream",
          "name": "stdout",
          "text": [
            "                        count       mean        std    min    25%   50%  \\\n",
            "Sex    Survived Pclass                                                    \n",
            "female 0        1         3.0  25.666667  24.006943   2.00  13.50  25.0   \n",
            "                2         6.0  36.000000  12.915107  24.00  26.25  32.5   \n",
            "                3        55.0  23.818182  12.833465   2.00  15.25  22.0   \n",
            "       1        1        82.0  34.939024  13.223014  14.00  23.25  35.0   \n",
            "                2        68.0  28.080882  12.764693   2.00  21.75  28.0   \n",
            "                3        47.0  19.329787  12.303246   0.75  13.50  19.0   \n",
            "male   0        1        61.0  44.581967  14.457749  18.00  33.00  45.5   \n",
            "                2        84.0  33.369048  12.158125  16.00  24.75  30.5   \n",
            "                3       215.0  27.255814  12.135707   1.00  20.00  25.0   \n",
            "       1        1        40.0  36.248000  14.936744   0.92  27.00  36.0   \n",
            "                2        15.0  16.022000  19.547122   0.67   1.00   3.0   \n",
            "                3        38.0  22.274211  11.555786   0.42  16.50  25.0   \n",
            "\n",
            "                          75%   max  \n",
            "Sex    Survived Pclass               \n",
            "female 0        1       37.50  50.0  \n",
            "                2       42.50  57.0  \n",
            "                3       31.00  48.0  \n",
            "       1        1       44.00  63.0  \n",
            "                2       35.25  55.0  \n",
            "                3       26.50  63.0  \n",
            "male   0        1       56.00  71.0  \n",
            "                2       39.00  70.0  \n",
            "                3       34.00  74.0  \n",
            "       1        1       48.00  80.0  \n",
            "                2       31.50  62.0  \n",
            "                3       29.75  45.0  \n"
          ]
        },
        {
          "output_type": "display_data",
          "data": {
            "text/plain": [
              "<Figure size 2160x648 with 1 Axes>"
            ],
            "image/png": "[encoded data removed]"
          },
          "metadata": {
            "needs_background": "light"
          }
        }
      ]
    },
    {
      "cell_type": "markdown",
      "source": [
        "'''\n",
        "As we can see, in fact 3rd Pclass Female survived more than 1st Pclass men, which is exactly the opposite our hypothesis \"3rd Pclass women didn't survive more than 1st Pclass men\"\n",
        "'''"
      ],
      "metadata": {
        "id": "EvDEu9Bd3A4c"
      }
    }
  ]
}